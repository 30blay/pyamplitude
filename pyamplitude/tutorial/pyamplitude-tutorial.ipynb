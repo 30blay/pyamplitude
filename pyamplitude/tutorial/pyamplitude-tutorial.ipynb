{
 "cells": [
  {
   "cell_type": "markdown",
   "metadata": {},
   "source": [
    "![alt text](logo.png)"
   ]
  },
  {
   "cell_type": "markdown",
   "metadata": {},
   "source": [
    "# PyAmplitude Tutorial"
   ]
  },
  {
   "cell_type": "markdown",
   "metadata": {},
   "source": [
    "...What is Pyamplitude ?\n",
    "\n",
    "Amplitude its a python-based client designed to interact with the entire set of Amplitude Analytics services (Redshift, Export API, Dashboard Rest API and Behavioral Cohorts API) following the official Amplitude Documentation which can be found at:  \n",
    "\n",
    "https://amplitude.zendesk.com/hc/en-us/categories/115000290488-Technical-Resources\n",
    "\n",
    "General Organization: \n",
    "\n",
    "    class AmplitudeRestApi   -> A wrapper around each Rest API resources. \n",
    "    class RedshfitAmplitude  -> A sql connector for the Amplitude AWS-Redshift database. \n",
    "    class ExportApi          -> A wrapper around the entire Amplitude export \n",
    "\n",
    "Aditional Modules: \n",
    "    \n",
    "    class ProjectHandler     -> Manage several apps & secret keys\n",
    "    \n",
    "Aditional Features: \n",
    "\n",
    "    - Calculate each query cost.\n",
    "    - Manage your query rate limits in a ETL context.\n",
    "    - Visualize the quentity of requests and your query limit status. "
   ]
  },
  {
   "cell_type": "markdown",
   "metadata": {},
   "source": [
    "## Install"
   ]
  },
  {
   "cell_type": "markdown",
   "metadata": {},
   "source": [
    "sudo pip install pyamplitude"
   ]
  },
  {
   "cell_type": "markdown",
   "metadata": {},
   "source": [
    "## How to use PyAmplitude ?"
   ]
  },
  {
   "cell_type": "markdown",
   "metadata": {},
   "source": [
    "Let's start by importing the ProjectHandler and passing a project_name, api_key and api_secret key as parameters."
   ]
  },
  {
   "cell_type": "code",
   "execution_count": null,
   "metadata": {
    "collapsed": true
   },
   "outputs": [],
   "source": [
    "from pyamplitude.projectshandler import ProjectsHandler"
   ]
  },
  {
   "cell_type": "markdown",
   "metadata": {},
   "source": [
    "Lets instance the ProjectHanlder with our first app called 'BubbleWay'..."
   ]
  },
  {
   "cell_type": "code",
   "execution_count": null,
   "metadata": {
    "collapsed": true
   },
   "outputs": [],
   "source": [
    "bubbleConector = ProjectsHandler(project_name = 'BubbleWay', \n",
    "                                 api_key      = <'API-KEY'>, \n",
    "                                 api_secret   = <'API-SECRET'>)"
   ]
  },
  {
   "cell_type": "markdown",
   "metadata": {},
   "source": [
    "Hint: Use the __repr__ method to check your actual instance when used with several apps. "
   ]
  },
  {
   "cell_type": "code",
   "execution_count": null,
   "metadata": {
    "collapsed": true
   },
   "outputs": [],
   "source": [
    "print bubbleConector"
   ]
  },
  {
   "cell_type": "markdown",
   "metadata": {},
   "source": [
    "project_name: BubbleWay | api_key: API-KEY | secret_key: API-SECRET"
   ]
  },
  {
   "cell_type": "code",
   "execution_count": null,
   "metadata": {
    "collapsed": true
   },
   "outputs": [],
   "source": [
    "from pyamplitude.amplituderestapi import AmplitudeRestApi"
   ]
  },
  {
   "cell_type": "markdown",
   "metadata": {
    "collapsed": true
   },
   "source": [
    "# Querying data from the Amplitude Analytics REST API Dashboard"
   ]
  },
  {
   "cell_type": "markdown",
   "metadata": {
    "collapsed": true
   },
   "source": [
    "Great ! So let's use the Amplitude Rest Api to query some useful data for later analysis... "
   ]
  },
  {
   "cell_type": "code",
   "execution_count": null,
   "metadata": {
    "collapsed": true
   },
   "outputs": [],
   "source": [
    "apiconector = AmplitudeRestApi(project_handler = bubbleConector,\n",
    "                               show_logs       = False,\n",
    "                               log_query_cost = False)"
   ]
  },
  {
   "cell_type": "markdown",
   "metadata": {},
   "source": [
    "### Creating and using segments"
   ]
  },
  {
   "cell_type": "markdown",
   "metadata": {
    "collapsed": true
   },
   "source": [
    "Segments are represented as JSON arrays, where each element is a JSON object corresponding to a filter condition. First import and initialize the Segment class and add each query filter. in these cases we will be creating two segment definitions and for later use."
   ]
  },
  {
   "cell_type": "markdown",
   "metadata": {},
   "source": [
    "first_segment_definition = Segment()\n",
    "\n",
    "first_segment_definition.add_filter(prop='country',op='is',values=['argentina','brasil'])\n",
    "\n",
    "second_segment_definition = Segment()\n",
    "\n",
    "second_segment_definition.add_filter(prop='country',op='is',values=['argentina','paraguay'])"
   ]
  },
  {
   "cell_type": "markdown",
   "metadata": {},
   "source": [
    "### Using the AmplitudeRestApi module. "
   ]
  },
  {
   "cell_type": "markdown",
   "metadata": {},
   "source": [
    "##### First Example:  Querying Active and New Users count"
   ]
  },
  {
   "cell_type": "code",
   "execution_count": null,
   "metadata": {
    "collapsed": true
   },
   "outputs": [],
   "source": [
    "data = apiconector.get_active_and_new_user_count(start    = '20170814',\n",
    "                                                 end      = '20170825',\n",
    "                                                 m        = 'active',\n",
    "                                                 interval = 1,\n",
    "                                                 segment_definitions = [first_segment_definition, \n",
    "                                                                        second_segment_definition],\n",
    "                                                 group_by            = None) "
   ]
  },
  {
   "cell_type": "markdown",
   "metadata": {},
   "source": [
    "If all goes well... you should receive a JSON response such as: "
   ]
  },
  {
   "cell_type": "markdown",
   "metadata": {},
   "source": [
    "{\n",
    "    \"data\": {\n",
    "        \"series\": [ \n",
    "                    [18600,15294,14164,12945,12585,11797,10113,9523,8321,7873,9053,8109],\n",
    "                    [3264,3423,3397,2984,2916,2827,2918,2934,1800,1560,1240,1100]\n",
    "        ],\n",
    "        \"seriesMeta\": [\"Argentina\", \"Brasil\"],\n",
    "        \"xValues\": [\"2017-08-14\", \"2017-08-15\", \"2017-08-16\", \"2017-08-17\", \"2017-08-18\", \"2017-08-19\", \"2017-08-20\", \n",
    "                    \"2017-08-21\", \"2017-08-22\", \"2017-08-23\", \"2017-08-24\", \"2017-08-25\"]\n",
    "    }\n",
    "}"
   ]
  },
  {
   "cell_type": "markdown",
   "metadata": {},
   "source": [
    "### Using plotly to plot available data"
   ]
  },
  {
   "cell_type": "markdown",
   "metadata": {},
   "source": [
    "Let's use Plotly to plot 'active' and 'new' users we are querying: "
   ]
  },
  {
   "cell_type": "code",
   "execution_count": 8,
   "metadata": {},
   "outputs": [
    {
     "data": {
      "text/html": [
       "<script>requirejs.config({paths: { 'plotly': ['https://cdn.plot.ly/plotly-latest.min']},});if(!window.Plotly) {{require(['plotly'],function(plotly) {window.Plotly=plotly;});}}</script>"
      ]
     },
     "metadata": {},
     "output_type": "execute_result"
    },
    {
     "data": {
      "text/html": [
       "<div id=\"0c152672-1479-4b9e-8696-b3e65806ceeb\" style=\"height: 525px; width: 100%;\" class=\"plotly-graph-div\"></div><script type=\"text/javascript\">require([\"plotly\"], function(Plotly) { window.PLOTLYENV=window.PLOTLYENV || {};window.PLOTLYENV.BASE_URL=\"https://plot.ly\";Plotly.newPlot(\"0c152672-1479-4b9e-8696-b3e65806ceeb\", [{\"y\": [18600, 15294, 14164, 12945, 12585, 11797, 10113, 9523, 8321, 7873, 9053, 8109], \"x\": [\"2017-08-14\", \"2017-08-15\", \"2017-08-16\", \"2017-08-17\", \"2017-08-18\", \"2017-08-19\", \"2017-08-20\", \"2017-08-21\", \"2017-08-22\", \"2017-08-23\", \"2017-08-24\", \"2017-08-25\"], \"type\": \"scatter\", \"mode\": \"lines+markers\", \"name\": \"DAU | Argentina\"}, {\"y\": [3264, 3423, 3397, 2984, 2916, 2827, 2918, 2934, 1800, 1560, 1240, 1100], \"x\": [\"2017-08-14\", \"2017-08-15\", \"2017-08-16\", \"2017-08-17\", \"2017-08-18\", \"2017-08-19\", \"2017-08-20\", \"2017-08-21\", \"2017-08-22\", \"2017-08-23\", \"2017-08-24\", \"2017-08-25\"], \"type\": \"scatter\", \"mode\": \"lines+markers\", \"name\": \"DAU | Brasil\"}, {\"y\": [860, 152, 14, 129, 1255, 117, 1014, 952, 8673, 7887, 15000, 18000], \"x\": [\"2017-08-14\", \"2017-08-15\", \"2017-08-16\", \"2017-08-17\", \"2017-08-18\", \"2017-08-19\", \"2017-08-20\", \"2017-08-21\", \"2017-08-22\", \"2017-08-23\", \"2017-08-24\", \"2017-08-25\"], \"type\": \"scatter\", \"mode\": \"lines\", \"name\": \"NEW | Argentina\"}, {\"y\": [326, 343, 339, 298, 291, 282, 291, 294, 180, 160, 1400, 1600], \"x\": [\"2017-08-14\", \"2017-08-15\", \"2017-08-16\", \"2017-08-17\", \"2017-08-18\", \"2017-08-19\", \"2017-08-20\", \"2017-08-21\", \"2017-08-22\", \"2017-08-23\", \"2017-08-24\", \"2017-08-25\"], \"type\": \"scatter\", \"mode\": \"lines\", \"name\": \"NEW | Brasil\"}], {\"title\": \"Amplitude Rest Api | Daily Active Users for Argentina & Brasil\", \"xaxis\": {\"title\": \"Dates\"}, \"yaxis\": {\"title\": \"DAU\"}}, {\"linkText\": \"Export to plot.ly\", \"showLink\": true})});</script>"
      ]
     },
     "metadata": {},
     "output_type": "execute_result"
    }
   ],
   "source": [
    "from plotly.offline import download_plotlyjs, init_notebook_mode, plot, iplot\n",
    "\n",
    "init_notebook_mode(connected=True)\n",
    "\n",
    "\n",
    "active_users_response = {\"data\": {\"series\": [[18600,15294,14164,12945,12585,11797,10113,9523,8321,7873,9053,8109],[3264,3423,3397,2984,2916,2827,2918,2934,1800,1560,1240,1100]],\n",
    "\"seriesMeta\": [\"Argentina\", \"Brasil\"],\"xValues\": [\"2017-08-14\", \"2017-08-15\", \"2017-08-16\", \"2017-08-17\", \"2017-08-18\", \"2017-08-19\", \"2017-08-20\", \"2017-08-21\", \"2017-08-22\", \"2017-08-23\", \"2017-08-24\", \"2017-08-25\"]}}\n",
    "\n",
    "new_users_response = {\"data\": {\"series\": [[860,152,14,129,1255,117,1014,952,8673,7887,15000,18000],[326,343,339,298,291,282,291,294,180,160,1400,1600]],\n",
    "\"seriesMeta\": [\"Argentina\", \"Brasil\"],\"xValues\": [\"2017-08-14\", \"2017-08-15\", \"2017-08-16\", \"2017-08-17\", \"2017-08-18\", \"2017-08-19\", \"2017-08-20\", \"2017-08-21\", \"2017-08-22\", \"2017-08-23\", \"2017-08-24\", \"2017-08-25\"]}}\n",
    "\n",
    "ar_dau = active_users_response['data']['series'][0]\n",
    "br_dau = active_users_response['data']['series'][1]\n",
    "dates  = active_users_response['data']['xValues']\n",
    "\n",
    "new_ar = new_users_response['data']['series'][0]\n",
    "new_br = new_users_response['data']['series'][1]\n",
    "\n",
    "\n",
    "argentina_new_trace = go.Scatter(x = dates, y = ar_dau, name = 'DAU | Argentina', mode = 'lines+markers')\n",
    "brasil_new_trace    = go.Scatter(x = dates, y = br_dau, name = 'DAU | Brasil',    mode = 'lines+markers') \n",
    "new_ar_trace        = go.Scatter(x = dates, y = new_ar, name = 'NEW | Argentina', mode = 'lines')\n",
    "new_br_trace        = go.Scatter(x = dates, y = new_br, name = 'NEW | Brasil',    mode = 'lines')\n",
    "\n",
    "data = [argentina_new_trace, brasil_new_trace, new_ar_trace, new_br_trace]\n",
    "\n",
    "layout = dict(title = 'Amplitude Rest Api | Daily Active Users for Argentina & Brasil',\n",
    "              xaxis = dict(title = 'Dates'),\n",
    "              yaxis = dict(title = 'DAU'))\n",
    "\n",
    "fig = dict(data=data, layout=layout)\n",
    "\n",
    "iplot(fig)"
   ]
  },
  {
   "cell_type": "markdown",
   "metadata": {},
   "source": [
    "Other Resources: Session Length Distribution, Average Session Length, Average Sessions per User, User Composition, Events, Events List, Event Segmentation, Funnel Analysis, Retention Analysis, User Activity, User Search, Real-time Active Users, Revenue Analysis, Revenue LTV, Annotations..."
   ]
  },
  {
   "cell_type": "markdown",
   "metadata": {},
   "source": [
    "## Aditional options"
   ]
  },
  {
   "cell_type": "markdown",
   "metadata": {},
   "source": [
    "#### Using  calculate_query_cost = True parameter"
   ]
  },
  {
   "cell_type": "markdown",
   "metadata": {},
   "source": [
    "With PyAmplitude you can calculate each query cost very easily by checking the log_query_cost parameter. In an ETL context you may use this option not to exceed query limits. If you want to know more about how each query cost is being calculated, please read:\n",
    "\n",
    "https://amplitude.zendesk.com/hc/en-us/articles/205469748-Dashboard-Rest-API-Export-Amplitude-Dashboard-Data#request-limits"
   ]
  },
  {
   "cell_type": "markdown",
   "metadata": {},
   "source": [
    "#### Using the show_logs parameter..."
   ]
  },
  {
   "cell_type": "markdown",
   "metadata": {},
   "source": [
    "# Fetching data from Amplitude Redshift"
   ]
  },
  {
   "cell_type": "markdown",
   "metadata": {},
   "source": [
    "As a addition you can query data from Amplitude Redshift using the AmplitudeReshift class."
   ]
  },
  {
   "cell_type": "code",
   "execution_count": null,
   "metadata": {
    "collapsed": true
   },
   "outputs": [],
   "source": [
    "from pyamplitude.amplituderestshift import AmplitudeRedshift"
   ]
  },
  {
   "cell_type": "code",
   "execution_count": null,
   "metadata": {
    "collapsed": true
   },
   "outputs": [],
   "source": [
    "ConnectionHandler = AmplitudeRedshift(host='',\n",
    "                                      user='BubbleUser',\n",
    "                                      port='5439',\n",
    "                                      password=<yourpassword>,\n",
    "                                      dbname='bubble_db',\n",
    "                                      schema= 'app123098',\n",
    "                                      table=<db_table>,\n",
    "                                      show_logs= True)"
   ]
  },
  {
   "cell_type": "code",
   "execution_count": null,
   "metadata": {
    "collapsed": true
   },
   "outputs": [],
   "source": [
    "query = 'SELECT * FROM app123098.bubble_db LIMIT 10'"
   ]
  },
  {
   "cell_type": "code",
   "execution_count": null,
   "metadata": {
    "collapsed": true
   },
   "outputs": [],
   "source": [
    "ConnectionHandler.execute_query(query=query)"
   ]
  },
  {
   "cell_type": "markdown",
   "metadata": {},
   "source": [
    "NOTE: AmplitudeRedshift has a serious of prebuild methods to fetch a list of users, query user events as well as new users, but you can also pass your specific query using the execute_query method."
   ]
  },
  {
   "cell_type": "markdown",
   "metadata": {},
   "source": [
    "## Authors"
   ]
  },
  {
   "cell_type": "markdown",
   "metadata": {},
   "source": [
    "Marcos Manuel Muraro"
   ]
  }
 ],
 "metadata": {
  "kernelspec": {
   "display_name": "Python 2",
   "language": "python",
   "name": "python2"
  },
  "language_info": {
   "codemirror_mode": {
    "name": "ipython",
    "version": 2
   },
   "file_extension": ".py",
   "mimetype": "text/x-python",
   "name": "python",
   "nbconvert_exporter": "python",
   "pygments_lexer": "ipython2",
   "version": "2.7.12"
  }
 },
 "nbformat": 4,
 "nbformat_minor": 2
}
